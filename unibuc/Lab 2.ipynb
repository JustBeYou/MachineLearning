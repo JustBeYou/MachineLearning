{
 "cells": [
  {
   "cell_type": "code",
   "execution_count": 140,
   "metadata": {},
   "outputs": [
    {
     "name": "stdout",
     "output_type": "stream",
     "text": [
      "{'F': 0.5, 'B': 0.5}\n"
     ]
    }
   ],
   "source": [
    "import numpy as np\n",
    "import pandas as pd\n",
    "from collections import Counter\n",
    "from functools import reduce\n",
    "from operator import mul, itemgetter\n",
    "\n",
    "data = [(160, 'F'), (165, 'F'), (155, 'F'), (172, 'F'),\n",
    "        (175, 'F'), (180, 'B'), (177, 'B'), (190, 'B')]\n",
    "data = np.array(data, dtype=[('height', 'int'), ('sex', 'object')])\n",
    "bins = np.linspace(start=151, stop=191, num=5)\n",
    "bins[0] = 150.0\n",
    "data['height'] = np.digitize(data['height'], bins)\n",
    "\n",
    "data = pd.DataFrame(data)\n",
    "sex_freq = data['sex'].value_counts()\n",
    "val_freq = data['height'].value_counts()\n",
    "sex_val_freq = data.value_counts(['sex', 'height',])\n",
    "\n",
    "def predict(X):\n",
    "    X = np.digitize(X, bins)\n",
    "    probs = {\n",
    "        sex: (sex_freq[sex] / len(data)) * (sex_val_freq[sex][X] / sex_freq[sex]) / (val_freq[X] / len(data))\n",
    "        for sex in ['F', 'B']\n",
    "    }\n",
    "    \n",
    "    return probs\n",
    "\n",
    "print (predict(177))\n"
   ]
  },
  {
   "cell_type": "code",
   "execution_count": 141,
   "metadata": {},
   "outputs": [
    {
     "name": "stdout",
     "output_type": "stream",
     "text": [
      "[150. 161. 171. 181. 191.]\n"
     ]
    }
   ],
   "source": [
    "bins = np.linspace(start=151, stop=191, num=5)\n",
    "bins[0] = 150.0\n",
    "print (bins)"
   ]
  },
  {
   "cell_type": "code",
   "execution_count": 137,
   "metadata": {},
   "outputs": [
    {
     "name": "stdout",
     "output_type": "stream",
     "text": [
      "3\n",
      "3\n",
      "F\n",
      "[1, 2, 1, 3, 3]\n",
      "0.4 0.625 0.5\n",
      "F\n",
      "[1, 2, 1, 3, 3]\n",
      "Prob ca o pers de 177 sa fie fata: 0.5\n",
      "3\n",
      "B\n",
      "[3, 3, 4]\n",
      "0.6666666666666666 0.375 0.5\n",
      "B\n",
      "[3, 3, 4]\n",
      "Prob ca o pers de 177 sa fie baiat: 0.5\n"
     ]
    }
   ],
   "source": [
    "training_set = [(160, 'F'), (165, 'F'), (155, 'F'), (172, 'F'),\n",
    "                (175, 'F'), (180, 'B'), (177, 'B'), (190, 'B')]\n",
    "data = [i for (i,j) in training_set]\n",
    "labels = [j for(i,j) in training_set]\n",
    "\n",
    "#bins = np.linspace(start=150 , stop=190 , num=4, endpoint=False)\n",
    "data = np.digitize(data, bins)\n",
    "#print (bins)\n",
    "\n",
    "print(np.digitize(180, bins))\n",
    "\n",
    "def calc_prob(vec, id):\n",
    "  return len([i for i in vec if i == id]) / len(vec)\n",
    "\n",
    "def calc_cond_prob(gender, bin):\n",
    "  print (gender)\n",
    "  restr_data = [data[i] for i in range(len(labels)) if labels[i] == gender]\n",
    "  print (restr_data)\n",
    "  return calc_prob(restr_data, bin)\n",
    "\n",
    "def solve(height, gender):\n",
    "  cores_bin = np.digitize(height, bins)\n",
    "  print (cores_bin)\n",
    "  print (calc_cond_prob(gender, cores_bin), calc_prob(labels, gender), calc_prob(data, cores_bin))\n",
    "  return calc_cond_prob(gender, cores_bin) * calc_prob(labels, gender) / calc_prob(data, cores_bin)\n",
    "\n",
    "height = 177\n",
    "print('Prob ca o pers de', height, 'sa fie fata:', solve(height, 'F'))\n",
    "print('Prob ca o pers de', height, 'sa fie baiat:', solve(height, 'B'))"
   ]
  }
 ],
 "metadata": {
  "kernelspec": {
   "display_name": "Python 3",
   "language": "python",
   "name": "python3"
  },
  "language_info": {
   "codemirror_mode": {
    "name": "ipython",
    "version": 3
   },
   "file_extension": ".py",
   "mimetype": "text/x-python",
   "name": "python",
   "nbconvert_exporter": "python",
   "pygments_lexer": "ipython3",
   "version": "3.7.9"
  }
 },
 "nbformat": 4,
 "nbformat_minor": 2
}
